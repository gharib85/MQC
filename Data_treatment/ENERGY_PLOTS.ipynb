{
 "cells": [
  {
   "cell_type": "code",
   "execution_count": null,
   "metadata": {},
   "outputs": [],
   "source": [
    "using Plots\n",
    "using HDF5\n",
    "using Distributed\n",
    "gr()\n",
    "const mass = 2000"
   ]
  },
  {
   "cell_type": "code",
   "execution_count": null,
   "metadata": {
    "scrolled": true
   },
   "outputs": [],
   "source": [
    "####### LOAD FROM INITIAL FILE\n",
    "input_name=\"thirty_states\"\n",
    "cd(\"../\")\n",
    "############################# LOAD SAVE FILES\n",
    "include(\"./Initial_data/\"*input_name*\".jl\")\n",
    "file=\"./data/\"*potname*\"_R0($R0)_p0($p0).h5\""
   ]
  },
  {
   "cell_type": "code",
   "execution_count": null,
   "metadata": {},
   "outputs": [],
   "source": [
    "###### LOAD FROM ZERO\n",
    "include(\"potentials.jl\")\n",
    "include(\"types.jl\")\n",
    "include(\"adiabatic_values.jl\")\n",
    "include(\"type_builder.jl\")\n",
    "include(\"plotting.jl\")"
   ]
  },
  {
   "cell_type": "code",
   "execution_count": null,
   "metadata": {},
   "outputs": [],
   "source": [
    "potential(R)=pot_thirty_states(R)\n",
    "nsts=30\n",
    "R0=1\n",
    "p0=20\n",
    "C0=zeros(Complex,nsts)\n",
    "C0[1]=1"
   ]
  },
  {
   "cell_type": "code",
   "execution_count": null,
   "metadata": {},
   "outputs": [],
   "source": [
    "################################ ENERGY STUFF\n",
    "xmin=0.1;\n",
    "xmax=10;\n",
    "res=1000;"
   ]
  },
  {
   "cell_type": "code",
   "execution_count": null,
   "metadata": {},
   "outputs": [],
   "source": [
    "#PLOT ENERGY WITHOUT COUPLINGS\n",
    "R=all_4_1D_plot(xmin,xmax,res);\n",
    "Xbase=R[:,1];\n",
    "E=R[:,2:1+nsts];\n",
    "S_EH=EH_state(R0,p0,C0)\n",
    "Ep0,~,~,~,~,~=adiabatic_values(R0);\n",
    "E0=real(C0'*Diagonal(Ep0)*C0)[1]+p0^2/2/mass;\n",
    "############### ENERGY PLOTS\n",
    "COLOURS=[:blue,:red,:green,:cyan,:purple];\n",
    "GUIDEFONT=font(24,\"Helvetica\");\n",
    "TICKFONT=font(24,\"Helvetica\");\n",
    "P=plot(Xbase,E[:,1],line=(1.5,:solid),color=:blue)\n",
    "for i in 2:nsts\n",
    "    plot!(Xbase,E[:,i],line=(1.5,:solid),color=COLOURS[mod1(i,length(COLOURS))])\n",
    "end\n",
    "plot!(x->E0,line=(2.0,:dash),colour=:black);\n",
    "plot!(xlabel=\"Position (a.u.)\",ylabel=\"Energy (a.u.)\",xlims=(xmin,xmax));\n",
    "plot!(xguidefont = GUIDEFONT,xtickfont=TICKFONT,yguidefont = GUIDEFONT,ytickfont=TICKFONT);\n",
    "plot!(legend=false);\n",
    "#ylims!(-0.011,0.1)\n",
    "P"
   ]
  },
  {
   "cell_type": "code",
   "execution_count": null,
   "metadata": {},
   "outputs": [],
   "source": [
    "P"
   ]
  },
  {
   "cell_type": "code",
   "execution_count": null,
   "metadata": {},
   "outputs": [],
   "source": [
    "#PLOT WITH COUPLINGS\n",
    "R=all_4_1D_plot(xmin,xmax,res,1,2:5);\n",
    "Xbase=R[:,1];\n",
    "E=R[:,2:1+nsts];\n",
    "G=R[:,2+nsts:end];\n",
    "num_couplings=length(G[1,:])\n",
    "S_EH=EH_state(R0,p0,C0)\n",
    "Ep0,~,~,~,~,~=adiabatic_values(R0);\n",
    "E0=real(C0'*Diagonal(Ep0)*C0)[1]+p0^2/2/mass;\n",
    "############### ENERGY PLOTS\n",
    "COLOURS=[:blue,:red,:green,:cyan,:purple];\n",
    "GUIDEFONT=font(24,\"Helvetica\");\n",
    "TICKFONT=font(24,\"Helvetica\");\n",
    "P=plot(Xbase,E[:,1],line=(1.5,:solid),color=:blue)\n",
    "for i in 2:nsts\n",
    "    plot!(Xbase,E[:,i],line=(1.5,:solid),color=COLOURS[mod1(i,length(COLOURS))])\n",
    "end\n",
    "NACfact=10\n",
    "for i in 1:num_couplings\n",
    "    plot!(Xbase,G[:,i]/NACfact,line=(2.0,:dash),color=:green)\n",
    "end\n",
    "plot!(x->E0,line=(2.0,:dash),colour=:black);\n",
    "plot!(xlabel=\"Position (a.u.)\",ylabel=\"Energy (a.u.)\",xlims=(xmin,xmax));\n",
    "plot!(xguidefont = GUIDEFONT,xtickfont=TICKFONT,yguidefont = GUIDEFONT,ytickfont=TICKFONT);\n",
    "plot!(legend=false);\n",
    "title!(\"NAC/$NACfact\",titlefont = GUIDEFONT)\n",
    "#ylims!(-0.011,0.1)\n",
    "P\n",
    "#yaxis!()"
   ]
  },
  {
   "cell_type": "code",
   "execution_count": null,
   "metadata": {},
   "outputs": [],
   "source": []
  }
 ],
 "metadata": {
  "kernelspec": {
   "display_name": "Julia 1.0.0",
   "language": "julia",
   "name": "julia-1.0"
  },
  "language_info": {
   "file_extension": ".jl",
   "mimetype": "application/julia",
   "name": "julia",
   "version": "1.0.0"
  }
 },
 "nbformat": 4,
 "nbformat_minor": 2
}
