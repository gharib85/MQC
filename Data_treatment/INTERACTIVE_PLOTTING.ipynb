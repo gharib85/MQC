{
 "cells": [
  {
   "cell_type": "code",
   "execution_count": null,
   "metadata": {},
   "outputs": [],
   "source": [
    "############################# USING STUFF\n",
    "using HDF5\n",
    "using Plots\n",
    "using Interact\n",
    "plotlyjs()"
   ]
  },
  {
   "cell_type": "code",
   "execution_count": null,
   "metadata": {},
   "outputs": [],
   "source": [
    "############################# INPUT STUFF\n",
    "input_name=\"layered_03\""
   ]
  },
  {
   "cell_type": "code",
   "execution_count": null,
   "metadata": {},
   "outputs": [],
   "source": [
    "############################# LOAD SAVE FILES\n",
    "include(\"Initial_data/\"*input_name*\".jl\")\n",
    "file=\"data/\"*potname*\"_R0($R0)_p0($p0).h5\"\n",
    "#SOfile=\"Complete_code/data/SO_\"*potname*\"_R0($R0)_p0($p0).h5\"\n",
    "#SOfile=\"/home/nacho/Desktop/HEAVY DATA/SO_\"*potname*\"_R0($R0)_p0($p0).h5\"\n",
    "E0=h5read(file,\"E0\");                                     #LOAD INITIAL ENERGY\n",
    "T_EH,R_EH,P_EH,C_EH=EH_read(file);                        #LOAD EHRENFEST\n",
    "T_FSSH,R_FSSH,P_FSSH,C_FSSH,AST_FSSH=FSSH_read(file);     #LOAD SURFACE HOPPING\n",
    "T_CM2_V,R_CM2_V,P_CM2_V,D_CM2_V=CM2_VANILLA_read(file);\n",
    "T_CM3_V,R_CM3_V,P_CM3_V,D_CM3_V=CM3_VANILLA_read(file);\n",
    "T_CM2,R_CM2,P_CM2,D_CM2=CM2_read(file);\n",
    "T_CM3,R_CM3,P_CM3,D_CM3=CM3_read(file);\n",
    "T_CM2_F,R_CM2_F,P_CM2_F,D_CM2_F=CM2_FSSH_read(file);\n",
    "T_CM3_F,R_CM3_F,P_CM3_F,D_CM3_F=CM3_FSSH_read(file);\n",
    "T_CM2_F_V,R_CM2_F_V,P_CM2_F_V,D_CM2_F_V=CM2_FSSH_VANILLA_read(file);\n",
    "T_CM3_F_V,R_CM3_F_V,P_CM3_F_V,D_CM3_F_V=CM3_FSSH_VANILLA_read(file);"
   ]
  },
  {
   "cell_type": "markdown",
   "metadata": {},
   "source": [
    "include(\"split_operator_functions_parallel.jl\")\n",
    "T_SO,X_SO,P_SO,PSI_AD_SO,PX_SO=SO_read(SOfile);           #LOAD SPLIT OPERATOR"
   ]
  },
  {
   "cell_type": "code",
   "execution_count": null,
   "metadata": {},
   "outputs": [],
   "source": [
    "############################# CALCULATE HISTOGRAMS\n",
    "HISTO_RES=150;\n",
    "xmin=-30;\n",
    "xmax=32;\n",
    "R_eh,HR_eh=super_histo(R_EH[:,1,:],xmin,xmax,HISTO_RES);\n",
    "R_fssh,HR_fssh=super_histo(R_FSSH[:,1,:],xmin,xmax,HISTO_RES);\n",
    "R_cm2,HR_cm2=super_histo(R_CM2[:,1,:],xmin,xmax,HISTO_RES);\n",
    "R_cm3,HR_cm3=super_histo(R_CM3[:,1,:],xmin,xmax,HISTO_RES);\n",
    "R_cm2_v,HR_cm2_v=super_histo(R_CM2_V[:,1,:],xmin,xmax,HISTO_RES);\n",
    "R_cm3_v,HR_cm3_v=super_histo(R_CM3_V[:,1,:],xmin,xmax,HISTO_RES);\n",
    "R_cm2_f,HR_cm2_f=super_histo(R_CM2_F[:,1,:],xmin,xmax,HISTO_RES);\n",
    "R_cm3_f,HR_cm3_f=super_histo(R_CM3_F[:,1,:],xmin,xmax,HISTO_RES);\n",
    "R_cm2_f_v,HR_cm2_f_v=super_histo(R_CM2_F_V[:,1,:],xmin,xmax,HISTO_RES);\n",
    "R_cm3_f_v,HR_cm3_f_v=super_histo(R_CM3_F_V[:,1,:],xmin,xmax,HISTO_RES);\n",
    "\n",
    "\n",
    "                                        #NORMALIZE THE HISTOGRAMS\n",
    "HR_eh=HR_eh./maximum(HR_eh[:,1])\n",
    "HR_fssh=HR_fssh./maximum(HR_fssh[:,1])\n",
    "HR_cm2_v=HR_cm2_v./maximum(HR_cm2_v[:,1])\n",
    "HR_cm3_v=HR_cm3_v./maximum(HR_cm3_v[:,1])\n",
    "HR_cm2=HR_cm2./maximum(HR_cm2[:,1])\n",
    "HR_cm3=HR_cm3./maximum(HR_cm3[:,1])\n",
    "HR_cm2_f=HR_cm2_f./maximum(HR_cm2_f[:,1])\n",
    "HR_cm3_f=HR_cm3_f./maximum(HR_cm3_f[:,1])\n",
    "HR_cm2_f_v=HR_cm2_f_v./maximum(HR_cm2_f_v[:,1])\n",
    "HR_cm3_f_v=HR_cm3_f_v./maximum(HR_cm3_f_v[:,1]);"
   ]
  },
  {
   "cell_type": "markdown",
   "metadata": {},
   "source": [
    "Y,PX0=SO_histo_builder(X_SO,PX_SO[1],HISTO_RES,xmin,xmax);\n",
    "Y,PXf=SO_histo_builder(X_SO,PX_SO[end],HISTO_RES,xmin,xmax);\n",
    "\n",
    "PXf=PXf./maximum(PX0)\n",
    "PX0=PX0./maximum(PX0)"
   ]
  },
  {
   "cell_type": "markdown",
   "metadata": {},
   "source": [
    "plot(T_CM3,R_CM2_F_V[:,1,1:100])\n",
    "plot(T_FSSH,R_FSSH[:,1,1:100])\n",
    "############### HISTOGRAM PLOTTING"
   ]
  },
  {
   "cell_type": "code",
   "execution_count": null,
   "metadata": {},
   "outputs": [],
   "source": [
    "GUIDEFONT=font(24,\"Helvetica\");\n",
    "TICKFONT=font(24,\"Helvetica\");\n",
    "#P=plot(Y,PX0,line=(2.0,:dash),color=:grey);\n",
    "#plot!(Y,PXf,line=(2.5,:dot),color=:black);\n",
    "P=plot(R_eh[:,1],HR_eh[:,1],label=\"EH_i\",line=(1,:dash),color=:gray);\n",
    "plot!(R_eh[:,end],HR_eh[:,end],label=\"EH_f\",line=(2,:solid),color=:blue);\n",
    "plot!(R_fssh[:,end],HR_fssh[:,end],label=\"FSSH_f\",line=(2.5,:solid),color=:red);\n",
    "#plot!(R_fssh_d[:,end],HR_fssh_d[:,end],label=\"FSSH_d_f\",line=(1.5,:solid),color=:green);\n",
    "plot!(R_cm2[:,end],HR_cm2[:,end],label=\"CM2\",line=(2,:solid))\n",
    "plot!(R_cm3[:,end],HR_cm3[:,end],label=\"CM3\",line=(2,:solid))\n",
    "plot!(R_cm2_v[:,end],HR_cm2_v[:,end],label=\"CM2_V\",line=(2,:solid))\n",
    "plot!(R_cm3_v[:,end],HR_cm3_v[:,end],label=\"CM3_V\",line=(2,:solid))\n",
    "plot!(R_cm2_f[:,end],HR_cm2_f[:,end],label=\"CM2_F\",line=(2,:solid))\n",
    "plot!(R_cm3_f[:,end],HR_cm3_f[:,end],label=\"CM3_F\",line=(2,:solid))\n",
    "plot!(R_cm2_f_v[:,end],HR_cm2_f_v[:,end],label=\"CM2_F_V\",line=(2,:solid))\n",
    "plot!(R_cm3_f_v[:,end],HR_cm3_f_v[:,end],label=\"CM3_F_V\",line=(2,:solid))\n",
    "plot!(xlabel=\"Position (a.u.)\",ylabel=\"Nuclear distribution\",xlims=(xmin,xmax));\n",
    "plot!(xguidefont = GUIDEFONT,xtickfont=TICKFONT,yguidefont = GUIDEFONT,ytickfont=TICKFONT);\n",
    "display(P)"
   ]
  },
  {
   "cell_type": "code",
   "execution_count": null,
   "metadata": {},
   "outputs": [],
   "source": [
    "@manipulate for i in 1:10:101\n",
    "    plot(R_eh[:,1],HR_eh[:,1],label=\"EH_i\",line=(1,:dash),color=:black);\n",
    "    plot!(R_eh[:,i],HR_eh[:,i],label=\"EH_f\",line=(2,:solid),color=:blue);\n",
    "    plot!(R_fssh[:,i],HR_fssh[:,i],label=\"FSSH_f\",line=(2.5,:solid),color=:red);\n",
    "    #plot!(R_fssh_d[:,end],HR_fssh_d[:,end],label=\"FSSH_d_f\",line=(1.5,:solid),color=:green);\n",
    "    #plot!(R_cm2[:,i],HR_cm2[:,i],label=\"CM2\",line=(2,:solid))\n",
    "    #plot!(R_cm3[:,i],HR_cm3[:,i],label=\"CM3\",line=(2,:solid))\n",
    "    #plot!(R_cm2_v[:,i],HR_cm2_v[:,i],label=\"CM2_V\",line=(2,:solid))\n",
    "    #plot!(R_cm3_v[:,i],HR_cm3_v[:,i],label=\"CM3_V\",line=(2,:solid))\n",
    "    plot!(R_cm2_f[:,i],HR_cm2_f[:,i],label=\"CM2_F\",line=(2,:solid))\n",
    "    plot!(R_cm3_f[:,i],HR_cm3_f[:,i],label=\"CM3_F\",line=(2,:solid))\n",
    "    plot!(R_cm2_f_v[:,i],HR_cm2_f_v[:,i],label=\"CM2_F_V\",line=(2,:solid))\n",
    "    plot!(R_cm3_f_v[:,i],HR_cm3_f_v[:,i],label=\"CM3_F_V\",line=(2,:solid))\n",
    "    plot!(xlabel=\"Position (a.u.)\",ylabel=\"Nuclear distribution\",xlims=(xmin,xmax));\n",
    "    plot!(xguidefont = GUIDEFONT,xtickfont=TICKFONT,yguidefont = GUIDEFONT,ytickfont=TICKFONT);\n",
    "end"
   ]
  }
 ],
 "metadata": {
  "kernelspec": {
   "display_name": "Julia 1.1.0",
   "language": "julia",
   "name": "julia-1.1"
  },
  "language_info": {
   "file_extension": ".jl",
   "mimetype": "application/julia",
   "name": "julia",
   "version": "1.1.0"
  }
 },
 "nbformat": 4,
 "nbformat_minor": 2
}
