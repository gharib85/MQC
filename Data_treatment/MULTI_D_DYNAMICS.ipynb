{
 "cells": [
  {
   "cell_type": "code",
   "execution_count": null,
   "metadata": {},
   "outputs": [],
   "source": [
    "############################# USING STUFF\n",
    "using HDF5\n",
    "using Plots\n",
    "using Distributed\n",
    "using Interact\n",
    "pyplot()"
   ]
  },
  {
   "cell_type": "code",
   "execution_count": null,
   "metadata": {},
   "outputs": [],
   "source": [
    "############################# INPUT STUFF\n",
    "input_name=\"2D_sinus_005_low\"\n",
    "\n",
    "#filename=\"\""
   ]
  },
  {
   "cell_type": "code",
   "execution_count": null,
   "metadata": {},
   "outputs": [],
   "source": [
    "############################# LOAD SAVE FILES\n",
    "cd(\"..\")\n",
    "include(\"Initial_data/\"*input_name*\".jl\")\n",
    "file=\"./data/\"*potname*\"_R0($R0)_p0($p0).h5\"\n",
    "#file=\"MQC/data/\"*filename*\".h5\""
   ]
  },
  {
   "cell_type": "code",
   "execution_count": null,
   "metadata": {},
   "outputs": [],
   "source": [
    "############################# HISTOGRAM STUFF\n",
    "HISTO_RES=100;\n",
    "mins=[-50;-50]\n",
    "maxs=[50;50]"
   ]
  },
  {
   "cell_type": "code",
   "execution_count": null,
   "metadata": {},
   "outputs": [],
   "source": [
    "E0=h5read(file,\"E0\");                                     #LOAD INITIAL ENERGY\n",
    "\n",
    "for dyn in DYN_LIST\n",
    "    println(\"Loading $dyn...\")\n",
    "    if dyn in CL_LIST\n",
    "        str=\"\"\"T_$(dyn),R_$(dyn),P_$(dyn)=CL_read(\"$file\",\"$dyn\")\"\"\"\n",
    "    elseif dyn in MF_LIST\n",
    "        str=\"\"\"T_$(dyn),R_$(dyn),P_$(dyn),C_$(dyn)=MF_read(\"$file\",\"$dyn\")\"\"\"\n",
    "    elseif dyn in SH_LIST\n",
    "        str=\"\"\"T_$(dyn),R_$dyn,P_$(dyn),C_$(dyn),AST_$(dyn)=SH_read(\"$file\",\"$dyn\")\"\"\"\n",
    "    end\n",
    "    eval(Meta.parse(str))\n",
    "end\n",
    "\n",
    "println(\"Finished loading, starting histograms...\")\n",
    "\n",
    "for dyn in DYN_LIST\n",
    "    tic=time()\n",
    "    println(\"$dyn histogram...\")\n",
    "    str=\"Rbase_$dyn,HR_$dyn=multi_d_histo(R_$dyn,$mins,$maxs,$HISTO_RES)\"\n",
    "    eval(Meta.parse(str))\n",
    "    str=\"HR_$dyn=HR_$dyn./maximum(HR_$dyn[:,:,1])\"\n",
    "    eval(Meta.parse(str))\n",
    "    println(\"Finished $dyn histogram after $(time()-tic) seconds!\")\n",
    "end"
   ]
  },
  {
   "cell_type": "code",
   "execution_count": null,
   "metadata": {},
   "outputs": [],
   "source": [
    "HR_EH_ORIG=copy(HR_EH);\n",
    "HR_FSSH_ORIG=copy(HR_FSSH);\n",
    "HR_CM2_FSSH_ORIG=copy(HR_CM2_FSSH);\n",
    "HR_CM3_FSSH_ORIG=copy(HR_CM3_FSSH);"
   ]
  },
  {
   "cell_type": "code",
   "execution_count": null,
   "metadata": {},
   "outputs": [],
   "source": [
    "EH_tresh=0.001\n",
    "for ix in 1:100\n",
    "    for iy in 1:100\n",
    "        if HR_EH[ix,iy,end]<EH_tresh\n",
    "            HR_EH[ix,iy,end]=0\n",
    "        end\n",
    "    end\n",
    "end"
   ]
  },
  {
   "cell_type": "code",
   "execution_count": null,
   "metadata": {},
   "outputs": [],
   "source": [
    "FSSH_tresh=0.0015\n",
    "for ix in 1:100\n",
    "    for iy in 1:100\n",
    "        if HR_FSSH[ix,iy,end]<FSSH_tresh\n",
    "            HR_FSSH[ix,iy,end]=0\n",
    "        end\n",
    "    end\n",
    "end"
   ]
  },
  {
   "cell_type": "code",
   "execution_count": null,
   "metadata": {},
   "outputs": [],
   "source": [
    "CM2_FSSH_tresh=0.001\n",
    "for ix in 1:100\n",
    "    for iy in 1:100\n",
    "        if HR_CM2_FSSH[ix,iy,end]<CM2_FSSH_tresh\n",
    "            HR_CM2_FSSH[ix,iy,end]=0\n",
    "        end\n",
    "    end\n",
    "end"
   ]
  },
  {
   "cell_type": "code",
   "execution_count": null,
   "metadata": {},
   "outputs": [],
   "source": [
    "CM3_FSSH_tresh=0.0008\n",
    "for ix in 1:100\n",
    "    for iy in 1:100\n",
    "        if HR_CM3_FSSH[ix,iy,end]<CM3_FSSH_tresh\n",
    "            HR_CM3_FSSH[ix,iy,end]=0\n",
    "        end\n",
    "    end\n",
    "end"
   ]
  },
  {
   "cell_type": "code",
   "execution_count": null,
   "metadata": {},
   "outputs": [],
   "source": [
    "dyn=CM3_FSSH\n",
    "plt_str=\"contour(Rbase_$(dyn)[1][:,101],Rbase_$(dyn)[2][:,101],HR_$(dyn)[:,:,101])\"\n",
    "    eval(Meta.parse(plt_str))\n",
    "    xticks!([(2k+1)*pi for k in -7:7])\n",
    "    yticks!([(2k+1)*pi for k in -7:7])"
   ]
  },
  {
   "cell_type": "code",
   "execution_count": null,
   "metadata": {},
   "outputs": [],
   "source": [
    "@manipulate for dyn in DYN_LIST, ipt in 1:101\n",
    "    plt_str=\"contour(Rbase_$(dyn)[1][:,$ipt],Rbase_$(dyn)[2][:,$ipt],HR_$(dyn)[:,:,$ipt])\"\n",
    "    eval(Meta.parse(plt_str))\n",
    "    xticks!([(2k+1)*pi for k in -7:7])\n",
    "    yticks!([(2k+1)*pi for k in -7:7])\n",
    "end"
   ]
  }
 ],
 "metadata": {
  "kernelspec": {
   "display_name": "Julia 1.1.0",
   "language": "julia",
   "name": "julia-1.1"
  },
  "language_info": {
   "file_extension": ".jl",
   "mimetype": "application/julia",
   "name": "julia",
   "version": "1.1.0"
  }
 },
 "nbformat": 4,
 "nbformat_minor": 2
}
