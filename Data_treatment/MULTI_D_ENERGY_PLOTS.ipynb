{
 "cells": [
  {
   "cell_type": "code",
   "execution_count": null,
   "metadata": {},
   "outputs": [],
   "source": [
    "using Plots\n",
    "using HDF5\n",
    "using Distributed\n",
    "using LinearAlgebra\n",
    "using Interact\n",
    "pyplot()"
   ]
  },
  {
   "cell_type": "code",
   "execution_count": null,
   "metadata": {},
   "outputs": [],
   "source": [
    "const mass = 2000\n",
    "const nsts = 20"
   ]
  },
  {
   "cell_type": "code",
   "execution_count": null,
   "metadata": {},
   "outputs": [],
   "source": [
    "###### LOAD FROM ZERO\n",
    "cd(\"..\")\n",
    "include(\"general_functions.jl\")\n",
    "include(\"potentials.jl\")\n",
    "include(\"types.jl\")\n",
    "include(\"adiabatic_values.jl\")\n",
    "include(\"type_builder.jl\")\n",
    "include(\"plotting.jl\")"
   ]
  },
  {
   "cell_type": "code",
   "execution_count": null,
   "metadata": {},
   "outputs": [],
   "source": [
    "potential(R)=pot_2D_sinus(R,0.005)\n",
    "R0=[0,0]\n",
    "p0=[0,0]\n",
    "C0=zeros(Complex,nsts)\n",
    "C0[1]=1"
   ]
  },
  {
   "cell_type": "code",
   "execution_count": null,
   "metadata": {},
   "outputs": [],
   "source": [
    "res=200\n",
    "xrange=[-20,20]\n",
    "yrange=[-20,20]\n",
    "\n",
    "R=energies_4_plot([xrange[1],yrange[1]],[xrange[2],yrange[2]],[res,res]);\n",
    "Xbase=[R[i][1] for i in 1:res];\n",
    "E=[R[i][k] for i in 1:res, k in 2:nsts+1]; #E[:,i] will be the i-th adiabatic PES\n",
    "\n",
    "\n",
    "X=range(xrange[1],stop=xrange[2],length=res);\n",
    "Y=range(yrange[1],stop=yrange[2],length=res);\n",
    "\n",
    "for st in 1:nsts\n",
    "    E_string=\"E$(st)=[R[i,j][2+$(st)] for i in 1:length(X), j in 1:length(Y)]\"\n",
    "    eval(Meta.parse(E_string))\n",
    "end"
   ]
  },
  {
   "cell_type": "code",
   "execution_count": null,
   "metadata": {},
   "outputs": [],
   "source": [
    "P1=surface(X,Y,E1)\n",
    "for i in 2:nsts\n",
    "    sur_string=\"surface!(X,Y,E$(i))\"\n",
    "    eval(Meta.parse(sur_string))\n",
    "end"
   ]
  },
  {
   "cell_type": "code",
   "execution_count": null,
   "metadata": {},
   "outputs": [],
   "source": [
    "R=energies_4_plot([-20,-20],[25,25],[225,225]);\n",
    "GAMMA=zeros(Float64,size(R))\n",
    "for (i,r) in enumerate(R)\n",
    "    ~,G,~,~,~,~=adiabatic_values(r[1:NDOFs],NDOFs)\n",
    "    GAMMA[i]=G[2][1,2]\n",
    "end"
   ]
  },
  {
   "cell_type": "code",
   "execution_count": null,
   "metadata": {},
   "outputs": [],
   "source": [
    "#GROUND STATE SURFACE\n",
    "surface(X,Y,E1)"
   ]
  },
  {
   "cell_type": "code",
   "execution_count": null,
   "metadata": {},
   "outputs": [],
   "source": [
    "?xticks!"
   ]
  },
  {
   "cell_type": "code",
   "execution_count": null,
   "metadata": {},
   "outputs": [],
   "source": [
    "contour(X,Y,E1)\n",
    "xticks!([(2k+1)*pi for k in -3:3])\n",
    "yticks!([(2k+1)*pi for k in -3:3])"
   ]
  },
  {
   "cell_type": "code",
   "execution_count": null,
   "metadata": {},
   "outputs": [],
   "source": [
    "contour(X,Y,E10)"
   ]
  },
  {
   "cell_type": "code",
   "execution_count": null,
   "metadata": {},
   "outputs": [],
   "source": [
    "contour(X,Y,E11)"
   ]
  },
  {
   "cell_type": "code",
   "execution_count": null,
   "metadata": {},
   "outputs": [],
   "source": [
    "#ALL ENERGIES SURFACE\n",
    "P1\n",
    "surface!(xticks=false)\n",
    "\n",
    "P1"
   ]
  },
  {
   "cell_type": "code",
   "execution_count": null,
   "metadata": {},
   "outputs": [],
   "source": [
    "@manipulate for y in 1:length(Y)\n",
    "    PP=plot(X,E1[:,y],legend=false,title=\"y=$(Y[y])\")\n",
    "    for i in 2:nsts\n",
    "        pltstring=\"plot!(X,E$(i)[:,$y])\"\n",
    "        eval(Meta.parse(pltstring))\n",
    "    end\n",
    "    ylims!(-0.022,0.022)\n",
    "\n",
    "    PP\n",
    "end"
   ]
  }
 ],
 "metadata": {
  "kernelspec": {
   "display_name": "Julia 1.1.0",
   "language": "julia",
   "name": "julia-1.1"
  },
  "language_info": {
   "file_extension": ".jl",
   "mimetype": "application/julia",
   "name": "julia",
   "version": "1.1.0"
  }
 },
 "nbformat": 4,
 "nbformat_minor": 2
}
