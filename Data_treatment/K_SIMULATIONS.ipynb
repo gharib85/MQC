{
 "cells": [
  {
   "cell_type": "code",
   "execution_count": null,
   "metadata": {},
   "outputs": [],
   "source": [
    "using Plots\n",
    "using HDF5\n",
    "pyplot()"
   ]
  },
  {
   "cell_type": "code",
   "execution_count": null,
   "metadata": {},
   "outputs": [],
   "source": [
    "input_name=\"thirty_states\"\n",
    "#filename=\"\""
   ]
  },
  {
   "cell_type": "code",
   "execution_count": null,
   "metadata": {},
   "outputs": [],
   "source": [
    "cd(\"..\")\n",
    "pwd()"
   ]
  },
  {
   "cell_type": "code",
   "execution_count": null,
   "metadata": {},
   "outputs": [],
   "source": [
    "############################# ENTER INFO\n",
    "potname=\"thirty_states\"\n",
    "R0=1\n",
    "K=20:5:50\n",
    "dirname=\"./data/K_\"*potname*\"_R0($R0)\"\n",
    "DYN_LIST=[\"EH\",\"FSSH\",\"SHEEP\",\"CM3_FSSH\"]\n",
    "mass = 2000\n",
    "nsts=30\n",
    "Ntrajs=100\n",
    "\n",
    "##AUTOMATIC STUFF\n",
    "file=dirname*\"/K_SIMULATION.h5\"\n",
    "include(\"data_functions.jl\")\n",
    "include(\"potentials.jl\")\n",
    "include(\"types.jl\")"
   ]
  },
  {
   "cell_type": "code",
   "execution_count": null,
   "metadata": {},
   "outputs": [],
   "source": [
    "###### META_DICT SHOWS WHAT'S SAVED INSIDE file\n",
    "meta_string=h5read(file,\"META_DICT\")\n",
    "META_DICT=eval(Meta.parse(meta_string))\n",
    "\n",
    "\n",
    "@show META_DICT"
   ]
  },
  {
   "cell_type": "code",
   "execution_count": null,
   "metadata": {},
   "outputs": [],
   "source": [
    "######## LOAD SAVE FILES\n",
    "for DYN in DYN_LIST\n",
    "    A_string=\"A_$(DYN)=general_K_read(file,$(DYN))\"\n",
    "    R_string=\"FR_$(DYN)=A_$(DYN)[1]\"\n",
    "    P_string=\"FP_$(DYN)=A_$(DYN)[2]\"\n",
    "    eval(Meta.parse(A_string))\n",
    "    eval(Meta.parse(R_string))\n",
    "    eval(Meta.parse(P_string))\n",
    "    if DYN in MF_LIST || DYN in SH_LIST\n",
    "        pop_string=\"Fpop_$(DYN)=A_$(DYN)[3]\"\n",
    "        eval(Meta.parse(pop_string))\n",
    "        if DYN in SH_LIST\n",
    "            ast_string=\"Fast_$(DYN)=A_$(DYN)[4]\"\n",
    "            eval(Meta.parse(ast_string))\n",
    "        end\n",
    "    end\n",
    "end"
   ]
  },
  {
   "cell_type": "code",
   "execution_count": null,
   "metadata": {},
   "outputs": [],
   "source": [
    "########### GROUND STATE PLOTTER. PLOTS FINAL GS POPULATIONS FOR DYNAMICS IN DYN_LIST\n",
    "P=plot()\n",
    "for DYN in DYN_LIST\n",
    "    if DYN in MF_LIST\n",
    "        GS_string=\"GS_$(DYN)=GS_MF_prob(K,Fpop_$(DYN))\"\n",
    "        eval(Meta.parse(GS_string))\n",
    "        plt_string=\"plot!(K,GS_$(DYN),label=$(DYN))\"\n",
    "        eval(Meta.parse(plt_string))\n",
    "    elseif DYN in SH_LIST\n",
    "        GS_string=\"GS_$(DYN)=GS_SH_prob(K,Fast_$(DYN))\"\n",
    "        eval(Meta.parse(GS_string))\n",
    "        plt_string=\"plot!(K,GS_$(DYN),label=$(DYN))\"\n",
    "        eval(Meta.parse(plt_string))\n",
    "    else\n",
    "        println(\"$DYN doesn't have GS info, won't plot\")\n",
    "    end\n",
    "end\n",
    "\n",
    "P"
   ]
  },
  {
   "cell_type": "code",
   "execution_count": null,
   "metadata": {},
   "outputs": [],
   "source": [
    "####### STATE TRANSMISSION PLOTS\n",
    "#cond(R,P) is a function that gives true if R and P are within some condition of interest for the plot, otherwise false\n",
    "cond(R,P)=R[1]>0\n",
    "\n",
    "SH_eval=true #MAKE TRUE FOR EVALUATING SH DYNAMICS WITH RESPECT TO AST STATES, FALSE FOR EVALUATION ACCORDING TO MF PROBS\n",
    "\n",
    "P=plot()\n",
    "for DYN in DYN_LIST\n",
    "    dyn_sts=eval(Meta.parse(\"$(DYN)_sts\"))\n",
    "    if DYN in MF_LIST\n",
    "        M_string=\"MULTI_$(DYN)=multi_MF_prob(K,A_$(DYN),1:$dyn_sts,cond)\"\n",
    "        eval(Meta.parse(M_string))\n",
    "        for st in 1:nsts\n",
    "            plt_string=\"\"\"plot!(K,MULTI_$(DYN)[:,$st],label=\"$(DYN)_st=$st\")\"\"\"\n",
    "            eval(Meta.parse(plt_string))\n",
    "        end\n",
    "    elseif DYN in SH_LIST\n",
    "        if SH_eval==true\n",
    "            M_string=\"MULTI_$(DYN)=multi_SH_prob(K,A_$(DYN),1:$dyn_sts,cond)\"\n",
    "            eval(Meta.parse(M_string))\n",
    "            for st in 1:nsts\n",
    "                plt_string=\"\"\"plot!(K,MULTI_$(DYN)[:,$st],label=\"$(DYN)_st=$st\")\"\"\"\n",
    "                eval(Meta.parse(plt_string))\n",
    "            end\n",
    "        else\n",
    "            M_string=\"MULTI_$(DYN)=multi_MF_prob(K,A_$(DYN),1:$dyn_sts,cond)\"\n",
    "            eval(Meta.parse(M_string))\n",
    "            for st in 1:nsts\n",
    "                plt_string=\"\"\"plot!(K,MULTI_$(DYN)[:,$st],label=\"$(DYN)_st=$st\")\"\"\"\n",
    "                eval(Meta.parse(plt_string))\n",
    "            end\n",
    "        end\n",
    "    else\n",
    "        println(\"$DYN doesn't have electronic states info, won't plot\")\n",
    "    end\n",
    "end\n",
    "\n",
    "P"
   ]
  },
  {
   "cell_type": "code",
   "execution_count": null,
   "metadata": {},
   "outputs": [],
   "source": [
    "####### STATE REFLECTION PLOTS\n",
    "#cond(R,P) is a function that gives true if R and P are within some condition of interest for the plot, otherwise false\n",
    "cond(R,P)=R[1]<0\n",
    "\n",
    "SH_eval=true #MAKE TRUE FOR EVALUATING SH DYNAMICS WITH RESPECT TO AST STATES, FALSE FOR EVALUATION ACCORDING TO MF PROBS\n",
    "\n",
    "P=plot()\n",
    "for DYN in DYN_LIST\n",
    "    dyn_sts=eval(Meta.parse(\"$(DYN)_sts\"))\n",
    "    if DYN in MF_LIST\n",
    "        M_string=\"MULTI_$(DYN)=multi_MF_prob(K,A_$(DYN),1:$dyn_sts,cond)\"\n",
    "        eval(Meta.parse(M_string))\n",
    "        for st in 1:nsts\n",
    "            plt_string=\"\"\"plot!(K,MULTI_$(DYN)[:,$st],label=\"$(DYN)_st=$st\")\"\"\"\n",
    "            eval(Meta.parse(plt_string))\n",
    "        end\n",
    "    elseif DYN in SH_LIST\n",
    "        if SH_eval==true\n",
    "            M_string=\"MULTI_$(DYN)=multi_SH_prob(K,A_$(DYN),1:$dyn_sts,cond)\"\n",
    "            eval(Meta.parse(M_string))\n",
    "            for st in 1:nsts\n",
    "                plt_string=\"\"\"plot!(K,MULTI_$(DYN)[:,$st],label=\"$(DYN)_st=$st\")\"\"\"\n",
    "                eval(Meta.parse(plt_string))\n",
    "            end\n",
    "        else\n",
    "            M_string=\"MULTI_$(DYN)=multi_MF_prob(K,A_$(DYN),1:$dyn_sts,cond)\"\n",
    "            eval(Meta.parse(M_string))\n",
    "            for st in 1:nsts\n",
    "                plt_string=\"\"\"plot!(K,MULTI_$(DYN)[:,$st],label=\"$(DYN)_st=$st\")\"\"\"\n",
    "                eval(Meta.parse(plt_string))\n",
    "            end\n",
    "        end\n",
    "    else\n",
    "        println(\"$DYN doesn't have electronic states info, won't plot\")\n",
    "    end\n",
    "end\n",
    "\n",
    "P"
   ]
  }
 ],
 "metadata": {
  "kernelspec": {
   "display_name": "Julia 1.0.0",
   "language": "julia",
   "name": "julia-1.0"
  },
  "language_info": {
   "file_extension": ".jl",
   "mimetype": "application/julia",
   "name": "julia",
   "version": "1.0.0"
  }
 },
 "nbformat": 4,
 "nbformat_minor": 2
}
