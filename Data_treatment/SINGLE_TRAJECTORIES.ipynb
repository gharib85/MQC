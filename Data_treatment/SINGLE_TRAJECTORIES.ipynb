{
 "cells": [
  {
   "cell_type": "code",
   "execution_count": null,
   "metadata": {},
   "outputs": [],
   "source": [
    "using Plots\n",
    "using HDF5\n",
    "pyplot()"
   ]
  },
  {
   "cell_type": "code",
   "execution_count": null,
   "metadata": {},
   "outputs": [],
   "source": [
    "input_name=\"CM_24layered_03\"\n",
    "cd(\"..\")\n",
    "include(\"Initial_data/\"*input_name*\".jl\")"
   ]
  },
  {
   "cell_type": "code",
   "execution_count": null,
   "metadata": {},
   "outputs": [],
   "source": [
    "include(\"data_functions.jl\")\n",
    "include(\"potentials.jl\")\n",
    "include(\"types.jl\")"
   ]
  },
  {
   "cell_type": "code",
   "execution_count": null,
   "metadata": {},
   "outputs": [],
   "source": [
    "potname=\"layered_03\"\n",
    "R0=-22.5\n",
    "p0=0\n",
    "file=\"./data/SINGLE_\"*potname*\"_R0($R0)_p0($p0).h5\"\n",
    "T_eh,R_eh,p_eh,C_eh=MF_read(file,\"EH\")\n",
    "T_cm2,R_cm2,p_cm2,C_cm2=MF_read(file,\"CM2\")\n",
    "T_cm3,R_cm3,p_cm3,C_cm3=MF_read(file,\"CM3\");"
   ]
  },
  {
   "cell_type": "code",
   "execution_count": null,
   "metadata": {},
   "outputs": [],
   "source": [
    "plot(T_eh,abs2.(C_eh[:,1]),label=\"GS\")"
   ]
  },
  {
   "cell_type": "code",
   "execution_count": null,
   "metadata": {},
   "outputs": [],
   "source": []
  }
 ],
 "metadata": {
  "kernelspec": {
   "display_name": "Julia 1.1.0",
   "language": "julia",
   "name": "julia-1.1"
  },
  "language_info": {
   "file_extension": ".jl",
   "mimetype": "application/julia",
   "name": "julia",
   "version": "1.1.0"
  }
 },
 "nbformat": 4,
 "nbformat_minor": 2
}
