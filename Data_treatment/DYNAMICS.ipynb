{
 "cells": [
  {
   "cell_type": "code",
   "execution_count": null,
   "metadata": {},
   "outputs": [],
   "source": [
    "############################# USING STUFF\n",
    "using HDF5\n",
    "using Plots\n",
    "using Distributed\n",
    "pyplot()"
   ]
  },
  {
   "cell_type": "code",
   "execution_count": null,
   "metadata": {},
   "outputs": [],
   "source": [
    "############################# INPUT STUFF\n",
    "input_name=\"24layered_011\"\n",
    "\n",
    "#filename=\"\""
   ]
  },
  {
   "cell_type": "code",
   "execution_count": null,
   "metadata": {},
   "outputs": [],
   "source": [
    "############################# LOAD SAVE FILES\n",
    "cd(\"..\")\n",
    "include(\"Initial_data/\"*input_name*\".jl\")\n",
    "file=\"./data/\"*potname*\"_R0($R0)_p0($p0).h5\"\n",
    "#file=\"MQC/data/\"*filename*\".h5\""
   ]
  },
  {
   "cell_type": "code",
   "execution_count": null,
   "metadata": {},
   "outputs": [],
   "source": [
    "############################# HISTOGRAM STUFF\n",
    "HISTO_RES=150;\n",
    "xmin=-30;\n",
    "xmax=32;"
   ]
  },
  {
   "cell_type": "code",
   "execution_count": null,
   "metadata": {},
   "outputs": [],
   "source": [
    "###SO\n",
    "SOfile=\"./data/SO_\"*potname*\"_R0($R0)_p0($p0).h5\"\n",
    "#SOfile=\"/home/nacho/Desktop/Desktop/HEAVY_DATA/SO_\"*potname*\"_R0($R0)_p0($p0).h5\"\n",
    "\n",
    "\n",
    "include(\"split_operator_functions_parallel.jl\")\n",
    "T_SO,X_SO,P_SO,PSI_AD_SO,PX_SO=SO_read(SOfile);           #LOAD SPLIT OPERATOR\n",
    "Y,PX0=SO_histo_builder(X_SO,PX_SO[1],HISTO_RES,xmin,xmax);\n",
    "Y,PXf=SO_histo_builder(X_SO,PX_SO[end],HISTO_RES,xmin,xmax);\n",
    "PXf=PXf./maximum(PX0)\n",
    "PX0=PX0./maximum(PX0);\n",
    "###"
   ]
  },
  {
   "cell_type": "code",
   "execution_count": null,
   "metadata": {},
   "outputs": [],
   "source": [
    "E0=h5read(file,\"E0\");                                     #LOAD INITIAL ENERGY\n",
    "\n",
    "for dyn in DYN_LIST\n",
    "    println(\"Loading $dyn...\")\n",
    "    if dyn in CL_LIST\n",
    "        str=\"\"\"T_$(dyn),R_$(dyn),P_$(dyn)=CL_read(\"$file\",\"$dyn\")\"\"\"\n",
    "    elseif dyn in MF_LIST\n",
    "        str=\"\"\"T_$(dyn),R_$(dyn),P_$(dyn),C_$(dyn)=MF_read(\"$file\",\"$dyn\")\"\"\"\n",
    "    elseif dyn in SH_LIST\n",
    "        str=\"\"\"T_$(dyn),R_$dyn,P_$(dyn),C_$(dyn),AST_$(dyn)=SH_read(\"$file\",\"$dyn\")\"\"\"\n",
    "    end\n",
    "    eval(Meta.parse(str))\n",
    "end\n",
    "\n",
    "\n",
    "for dyn in DYN_LIST\n",
    "    str=\"Rbase_$dyn,HR_$dyn=super_histo(R_$dyn[:,1,:],$xmin,$xmax,$HISTO_RES)\"\n",
    "    eval(Meta.parse(str))\n",
    "    str=\"HR_$dyn=HR_$dyn./maximum(HR_$dyn[:,1])\"\n",
    "    eval(Meta.parse(str))\n",
    "end\n",
    "println(\"Done!\")"
   ]
  },
  {
   "cell_type": "code",
   "execution_count": null,
   "metadata": {},
   "outputs": [],
   "source": [
    "N_AST=[sum(AST_CM2_FSSH[k,:])-120 for k in 1:101];"
   ]
  },
  {
   "cell_type": "code",
   "execution_count": null,
   "metadata": {},
   "outputs": [],
   "source": [
    "CCM2_avg=[sum(abs2.(C_CM2_FSSH[k,2,:]))./120 for k in 1:101];"
   ]
  },
  {
   "cell_type": "code",
   "execution_count": null,
   "metadata": {},
   "outputs": [],
   "source": [
    "plot(N_AST./120)\n",
    "plot!(CCM2_avg)"
   ]
  },
  {
   "cell_type": "code",
   "execution_count": null,
   "metadata": {},
   "outputs": [],
   "source": [
    "@manipulate for traj in 1:120\n",
    "    plot(T_CM3_FSSH,abs2.(C_CM3_FSSH[:,1,traj]))\n",
    "    plot!(T_CM3_FSSH,abs2.(C_CM3_FSSH[:,2,traj]))\n",
    "    plot!(T_CM3_FSSH,abs2.(C_CM3_FSSH[:,3,traj]))\n",
    "end"
   ]
  },
  {
   "cell_type": "code",
   "execution_count": null,
   "metadata": {},
   "outputs": [],
   "source": [
    "############### HISTOGRAM PLOTTING: WITH SO\n",
    "GUIDEFONT=font(24,\"Helvetica\");\n",
    "TICKFONT=font(24,\"Helvetica\");\n",
    "P=plot(Y,PX0,line=(2.0,:dash),color=:grey);\n",
    "plot!(Y,PXf,line=(2.5,:dot),color=:black);\n",
    "#P=plot(R_eh[:,1],HR_eh[:,1],label=\"EH_i\",line=(1,:dash),color=:black);\n",
    "plot!(Rbase_EH[:,end],-HR_EH[:,end],label=\"EH_f\",line=(2,:solid),color=:blue);\n",
    "plot!(Rbase_FSSH[:,end],HR_FSSH[:,end],label=\"FSSH_f\",line=(2.5,:solid),color=:red);\n",
    "#plot!(Rbase_FSSH_dia[:,end],HR_FSSH_dia[:,end],label=\"FSSH_d_f\",line=(1.5,:solid),color=:green);\n",
    "#plot!(Rbase_CM2[:,end],HR_CM2[:,end],label=\"CM2\",line=(2,:solid))\n",
    "#plot!(Rbase_CM3[:,end],HR_CM3[:,end],label=\"CM3\",line=(2,:solid))\n",
    "#plot!(Rbase_CM2_FSSH[:,end],HR_CM3_FSSH[:,end],label=\"CM2_F\",line=(2,:solid))\n",
    "#plot!(Rbase_CM3_FSSH[:,end],HR_CM3_FSSH[:,end],label=\"CM3_F\",line=(2,:solid))\n",
    "plot!(xlabel=\"Position (a.u.)\",ylabel=\"Nuclear distribution\",xlims=(xmin,xmax));\n",
    "plot!(xguidefont = GUIDEFONT,xtickfont=TICKFONT,yguidefont = GUIDEFONT,ytickfont=TICKFONT);\n",
    "#plot!(legend=false);\n",
    "#ylims!(-0.25,0.25)\n",
    "\n",
    "P\n"
   ]
  },
  {
   "cell_type": "code",
   "execution_count": null,
   "metadata": {},
   "outputs": [],
   "source": [
    "############### HISTOGRAM PLOTTING: WITH SO\n",
    "GUIDEFONT=font(24,\"Helvetica\");\n",
    "TICKFONT=font(24,\"Helvetica\");\n",
    "P=plot(Rbase_EH[:,1],HR_EH[:,1],label=\"EH_i\",line=(1,:dash),color=:black);\n",
    "plot!(Rbase_EH[:,end],-HR_EH[:,end],label=\"EH_f\",line=(2,:solid),color=:blue);\n",
    "plot!(Rbase_FSSH[:,end],HR_FSSH[:,end],label=\"FSSH_f\",line=(2.5,:solid),color=:red);\n",
    "#plot!(Rbase_FSSH_dia[:,end],HR_FSSH_dia[:,end],label=\"FSSH_d_f\",line=(1.5,:solid),color=:green);\n",
    "#plot!(Rbase_CM2[:,end],-HR_CM2[:,end],label=\"CM2\",line=(2,:solid))\n",
    "#plot!(Rbase_CM3[:,end],HR_CM3[:,end],label=\"CM3\",line=(2,:solid))\n",
    "plot!(Rbase_CM2_FSSH[:,end],-HR_CM2_FSSH[:,end],label=\"CM2_F\",line=(2,:solid))\n",
    "plot!(Rbase_CM3_FSSH[:,end],HR_CM3_FSSH[:,end],label=\"CM3_F\",line=(2,:solid))\n",
    "plot!(xlabel=\"Position (a.u.)\",ylabel=\"Nuclear distribution\",xlims=(xmin,xmax));\n",
    "plot!(xguidefont = GUIDEFONT,xtickfont=TICKFONT,yguidefont = GUIDEFONT,ytickfont=TICKFONT);\n",
    "#plot!(legend=false);\n",
    "#ylims!(-0.25,0.25)\n",
    "\n",
    "P\n"
   ]
  },
  {
   "cell_type": "code",
   "execution_count": null,
   "metadata": {},
   "outputs": [],
   "source": []
  }
 ],
 "metadata": {
  "kernelspec": {
   "display_name": "Julia 1.1.0",
   "language": "julia",
   "name": "julia-1.1"
  },
  "language_info": {
   "file_extension": ".jl",
   "mimetype": "application/julia",
   "name": "julia",
   "version": "1.1.0"
  }
 },
 "nbformat": 4,
 "nbformat_minor": 2
}
